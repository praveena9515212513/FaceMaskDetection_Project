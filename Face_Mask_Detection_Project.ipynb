{
  "nbformat": 4,
  "nbformat_minor": 0,
  "metadata": {
    "colab": {
      "name": "Face_Mask_Detection_Project.ipynb",
      "provenance": [],
      "collapsed_sections": [],
      "authorship_tag": "ABX9TyPXXKHn3tzN8mMwlN7oC3Ei"
    },
    "kernelspec": {
      "name": "python3",
      "display_name": "Python 3"
    },
    "language_info": {
      "name": "python"
    },
    "accelerator": "GPU",
    "gpuClass": "standard"
  },
  "cells": [
    {
      "cell_type": "code",
      "source": [
        "from google.colab import drive\n",
        "drive.mount('/content/drive')"
      ],
      "metadata": {
        "colab": {
          "base_uri": "https://localhost:8080/"
        },
        "id": "saRPaMnLTQH1",
        "outputId": "aafa6f6b-9ac2-4f61-fd15-77152c4ea4d6"
      },
      "execution_count": null,
      "outputs": [
        {
          "output_type": "stream",
          "name": "stdout",
          "text": [
            "Mounted at /content/drive\n"
          ]
        }
      ]
    },
    {
      "cell_type": "code",
      "execution_count": null,
      "metadata": {
        "colab": {
          "base_uri": "https://localhost:8080/"
        },
        "id": "jXH3SZoyS4s6",
        "outputId": "dfaaabc3-430f-42f6-a3ec-3efc499f4456"
      },
      "outputs": [
        {
          "output_type": "stream",
          "name": "stdout",
          "text": [
            "{'without mask': 0, 'with mask': 1}\n",
            "['without mask', 'with mask']\n",
            "[0, 1]\n"
          ]
        }
      ],
      "source": [
        "import cv2,os\n",
        "data_path='/content/drive/MyDrive/dataset'\n",
        "categories=os.listdir(data_path)\n",
        "labels=[i for i in range(len(categories))]\n",
        "label_dict=dict(zip(categories,labels))\n",
        "print(label_dict)\n",
        "print(categories)\n",
        "print(labels)"
      ]
    },
    {
      "cell_type": "code",
      "source": [
        "img_size=100\n",
        "data=[]\n",
        "target=[]\n",
        "\n",
        "for category in categories:\n",
        "    folder_path=os.path.join(data_path,category)\n",
        "    img_names=os.listdir(folder_path)\n",
        "        \n",
        "    for img_name in img_names:\n",
        "        img_path=os.path.join(folder_path,img_name)\n",
        "        img=cv2.imread(img_path)\n",
        "\n",
        "        try:\n",
        "            gray=cv2.cvtColor(img,cv2.COLOR_BGR2GRAY)           \n",
        "            #Coverting the image into gray scale\n",
        "            resized=cv2.resize(gray,(img_size,img_size))\n",
        "            #resizing the gray scale into 100x100, since we need a fixed common size for all the images in the dataset\n",
        "            data.append(resized)\n",
        "            target.append(label_dict[category])\n",
        "            #appending the image and the label(categorized) into the list (dataset)\n",
        "\n",
        "        except Exception as e:\n",
        "            print('Exception:',e)\n",
        "            #if any exception rasied, the exception will be printed here. And pass to the next image"
      ],
      "metadata": {
        "id": "HizCZ8njVcOu"
      },
      "execution_count": null,
      "outputs": []
    },
    {
      "cell_type": "code",
      "source": [
        "import numpy as np\n",
        "\n",
        "data=np.array(data)/255.0\n",
        "data=np.reshape(data,(data.shape[0],img_size,img_size,1))\n",
        "target=np.array(target)\n",
        "\n",
        "from keras.utils import np_utils\n",
        "\n",
        "new_target=np_utils.to_categorical(target)"
      ],
      "metadata": {
        "id": "HilI8IGoVnJJ"
      },
      "execution_count": null,
      "outputs": []
    },
    {
      "cell_type": "code",
      "source": [
        "np.save('data',data)\n",
        "np.save('target',new_target)"
      ],
      "metadata": {
        "id": "BkuzSiZMVosy"
      },
      "execution_count": null,
      "outputs": []
    },
    {
      "cell_type": "code",
      "source": [
        "import numpy as np\n",
        "\n",
        "data=np.load('data.npy')\n",
        "target=np.load('target.npy')\n"
      ],
      "metadata": {
        "id": "ZKWGMuRDWD6J"
      },
      "execution_count": null,
      "outputs": []
    },
    {
      "cell_type": "code",
      "source": [
        "from keras.models import Sequential\n",
        "from keras.layers import Dense,Activation,Flatten,Dropout\n",
        "from keras.layers import Conv2D,MaxPooling2D\n",
        "from keras.callbacks import ModelCheckpoint\n",
        "\n",
        "model=Sequential()\n",
        "\n",
        "model.add(Conv2D(200,(3,3),input_shape=data.shape[1:]))\n",
        "model.add(Activation('relu'))\n",
        "model.add(MaxPooling2D(pool_size=(2,2)))\n",
        "#The first CNN layer followed by Relu and MaxPooling layers\n",
        "\n",
        "model.add(Conv2D(100,(3,3)))\n",
        "model.add(Activation('relu'))\n",
        "model.add(MaxPooling2D(pool_size=(2,2)))\n",
        "#The second convolution layer followed by Relu and MaxPooling layers\n",
        "\n",
        "model.add(Flatten())\n",
        "model.add(Dropout(0.5))\n",
        "#Flatten layer to stack the output convolutions from second convolution layer\n",
        "model.add(Dense(50,activation='relu'))\n",
        "#Dense layer of 64 neurons\n",
        "model.add(Dense(2,activation='softmax'))\n",
        "#The Final layer with two outputs for two categories\n",
        "\n",
        "model.compile(loss='categorical_crossentropy',optimizer='adam',metrics=['accuracy'])"
      ],
      "metadata": {
        "id": "yUfdK5U2WD98"
      },
      "execution_count": null,
      "outputs": []
    },
    {
      "cell_type": "code",
      "source": [
        "from sklearn.model_selection import train_test_split\n",
        "\n",
        "train_data,test_data,train_target,test_target=train_test_split(data,target,test_size=0.1)"
      ],
      "metadata": {
        "id": "r2odozY5WJ7_"
      },
      "execution_count": null,
      "outputs": []
    },
    {
      "cell_type": "code",
      "source": [
        "checkpoint = ModelCheckpoint('model-{epoch:03d}.model',monitor='val_loss',verbose=0,save_best_only=True,mode='auto')\n",
        "history=model.fit(train_data,train_target,epochs=20,callbacks=[checkpoint],validation_split=0.2)"
      ],
      "metadata": {
        "colab": {
          "base_uri": "https://localhost:8080/"
        },
        "id": "RGIO1IYKWOFj",
        "outputId": "4b7439ef-3d5b-4745-bc7b-2ad40e658597"
      },
      "execution_count": null,
      "outputs": [
        {
          "output_type": "stream",
          "name": "stdout",
          "text": [
            "Epoch 1/20\n",
            "31/31 [==============================] - ETA: 0s - loss: 0.7247 - accuracy: 0.5192INFO:tensorflow:Assets written to: model-001.model/assets\n",
            "31/31 [==============================] - 15s 99ms/step - loss: 0.7247 - accuracy: 0.5192 - val_loss: 0.6884 - val_accuracy: 0.5524\n",
            "Epoch 2/20\n",
            "31/31 [==============================] - ETA: 0s - loss: 0.6296 - accuracy: 0.6566INFO:tensorflow:Assets written to: model-002.model/assets\n",
            "31/31 [==============================] - 2s 71ms/step - loss: 0.6296 - accuracy: 0.6566 - val_loss: 0.5039 - val_accuracy: 0.7581\n",
            "Epoch 3/20\n",
            "30/31 [============================>.] - ETA: 0s - loss: 0.4014 - accuracy: 0.8240INFO:tensorflow:Assets written to: model-003.model/assets\n",
            "31/31 [==============================] - 2s 70ms/step - loss: 0.4003 - accuracy: 0.8242 - val_loss: 0.3269 - val_accuracy: 0.8750\n",
            "Epoch 4/20\n",
            "31/31 [==============================] - ETA: 0s - loss: 0.3327 - accuracy: 0.8616INFO:tensorflow:Assets written to: model-004.model/assets\n",
            "31/31 [==============================] - 2s 67ms/step - loss: 0.3327 - accuracy: 0.8616 - val_loss: 0.3204 - val_accuracy: 0.8669\n",
            "Epoch 5/20\n",
            "31/31 [==============================] - ETA: 0s - loss: 0.1896 - accuracy: 0.9212INFO:tensorflow:Assets written to: model-005.model/assets\n",
            "31/31 [==============================] - 2s 70ms/step - loss: 0.1896 - accuracy: 0.9212 - val_loss: 0.2517 - val_accuracy: 0.9194\n",
            "Epoch 6/20\n",
            "31/31 [==============================] - ETA: 0s - loss: 0.1338 - accuracy: 0.9515INFO:tensorflow:Assets written to: model-006.model/assets\n",
            "31/31 [==============================] - 2s 68ms/step - loss: 0.1338 - accuracy: 0.9515 - val_loss: 0.2249 - val_accuracy: 0.9234\n",
            "Epoch 7/20\n",
            "31/31 [==============================] - ETA: 0s - loss: 0.0930 - accuracy: 0.9657INFO:tensorflow:Assets written to: model-007.model/assets\n",
            "31/31 [==============================] - 2s 74ms/step - loss: 0.0930 - accuracy: 0.9657 - val_loss: 0.1849 - val_accuracy: 0.9435\n",
            "Epoch 8/20\n",
            "31/31 [==============================] - 1s 40ms/step - loss: 0.0660 - accuracy: 0.9828 - val_loss: 0.3522 - val_accuracy: 0.8508\n",
            "Epoch 9/20\n",
            "31/31 [==============================] - 1s 40ms/step - loss: 0.0879 - accuracy: 0.9697 - val_loss: 0.2229 - val_accuracy: 0.9274\n",
            "Epoch 10/20\n",
            "31/31 [==============================] - 1s 40ms/step - loss: 0.0640 - accuracy: 0.9798 - val_loss: 0.1902 - val_accuracy: 0.9516\n",
            "Epoch 11/20\n",
            "31/31 [==============================] - 1s 41ms/step - loss: 0.0460 - accuracy: 0.9828 - val_loss: 0.1884 - val_accuracy: 0.9395\n",
            "Epoch 12/20\n",
            "31/31 [==============================] - 1s 41ms/step - loss: 0.0312 - accuracy: 0.9899 - val_loss: 0.2216 - val_accuracy: 0.9476\n",
            "Epoch 13/20\n",
            "31/31 [==============================] - 1s 40ms/step - loss: 0.0360 - accuracy: 0.9889 - val_loss: 0.2864 - val_accuracy: 0.9153\n",
            "Epoch 14/20\n",
            "31/31 [==============================] - 1s 43ms/step - loss: 0.0250 - accuracy: 0.9939 - val_loss: 0.2060 - val_accuracy: 0.9395\n",
            "Epoch 15/20\n",
            "31/31 [==============================] - ETA: 0s - loss: 0.0393 - accuracy: 0.9869INFO:tensorflow:Assets written to: model-015.model/assets\n",
            "31/31 [==============================] - 2s 80ms/step - loss: 0.0393 - accuracy: 0.9869 - val_loss: 0.1756 - val_accuracy: 0.9476\n",
            "Epoch 16/20\n",
            "31/31 [==============================] - 1s 41ms/step - loss: 0.0346 - accuracy: 0.9869 - val_loss: 0.1913 - val_accuracy: 0.9435\n",
            "Epoch 17/20\n",
            "31/31 [==============================] - 1s 40ms/step - loss: 0.0608 - accuracy: 0.9747 - val_loss: 0.2011 - val_accuracy: 0.9435\n",
            "Epoch 18/20\n",
            "31/31 [==============================] - 1s 41ms/step - loss: 0.0261 - accuracy: 0.9899 - val_loss: 0.1975 - val_accuracy: 0.9556\n",
            "Epoch 19/20\n",
            "31/31 [==============================] - 1s 40ms/step - loss: 0.0366 - accuracy: 0.9848 - val_loss: 0.2041 - val_accuracy: 0.9556\n",
            "Epoch 20/20\n",
            "31/31 [==============================] - 1s 40ms/step - loss: 0.0144 - accuracy: 0.9970 - val_loss: 0.2071 - val_accuracy: 0.9597\n"
          ]
        }
      ]
    },
    {
      "cell_type": "code",
      "source": [
        "from matplotlib import pyplot as plt\n",
        "\n",
        "plt.plot(history.history['loss'],'r',label='training loss')\n",
        "plt.plot(history.history['val_loss'],label='validation loss')\n",
        "plt.xlabel('# epochs')\n",
        "plt.ylabel('loss')\n",
        "plt.legend()\n",
        "plt.show()"
      ],
      "metadata": {
        "colab": {
          "base_uri": "https://localhost:8080/",
          "height": 279
        },
        "id": "9sLvKPdBcmto",
        "outputId": "c3f6b899-aa64-45dd-85d8-7266f2455d78"
      },
      "execution_count": null,
      "outputs": [
        {
          "output_type": "display_data",
          "data": {
            "text/plain": [
              "<Figure size 432x288 with 1 Axes>"
            ],
            "image/png": "[encoded data removed]"
          },
          "metadata": {
            "needs_background": "light"
          }
        }
      ]
    },
    {
      "cell_type": "code",
      "source": [
        "plt.plot(history.history['accuracy'],'r',label='training accuracy')\n",
        "plt.plot(history.history['val_accuracy'],label='validation accuracy')\n",
        "plt.xlabel('# epochs')\n",
        "plt.ylabel('loss')\n",
        "plt.legend()\n",
        "plt.show()"
      ],
      "metadata": {
        "colab": {
          "base_uri": "https://localhost:8080/",
          "height": 279
        },
        "id": "Ik51HH0zcyst",
        "outputId": "731f578b-0bf7-4bd3-8c8c-3a85ca8ea6c1"
      },
      "execution_count": null,
      "outputs": [
        {
          "output_type": "display_data",
          "data": {
            "text/plain": [
              "<Figure size 432x288 with 1 Axes>"
            ],
            "image/png": "[encoded data removed]"
          },
          "metadata": {
            "needs_background": "light"
          }
        }
      ]
    },
    {
      "cell_type": "code",
      "source": [
        "print(model.evaluate(test_data,test_target))"
      ],
      "metadata": {
        "colab": {
          "base_uri": "https://localhost:8080/"
        },
        "id": "0EsYYGrgc2Fn",
        "outputId": "7a16c0f6-c102-46b0-e47d-771baf4818fa"
      },
      "execution_count": null,
      "outputs": [
        {
          "output_type": "stream",
          "name": "stdout",
          "text": [
            "5/5 [==============================] - 0s 53ms/step - loss: 0.2368 - accuracy: 0.9493\n",
            "[0.23677842319011688, 0.9492753744125366]\n"
          ]
        }
      ]
    }
  ]
}